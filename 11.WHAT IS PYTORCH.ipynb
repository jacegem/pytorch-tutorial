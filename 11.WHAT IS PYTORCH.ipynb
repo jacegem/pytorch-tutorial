{
 "cells": [
  {
   "cell_type": "code",
   "execution_count": 1,
   "metadata": {},
   "outputs": [],
   "source": [
    "from __future__ import print_function\n",
    "import torch"
   ]
  },
  {
   "cell_type": "code",
   "execution_count": 6,
   "metadata": {},
   "outputs": [
    {
     "name": "stdout",
     "output_type": "stream",
     "text": [
      "tensor([[1.5920, 1.4922, 2.7304],\n",
      "        [1.2447, 2.0868, 0.5592],\n",
      "        [1.4117, 0.7680, 1.1143],\n",
      "        [1.7199, 0.8654, 1.2294],\n",
      "        [2.1125, 1.6094, 0.9149]])\n",
      "tensor([[0.8854, 0.9205, 0.2385],\n",
      "        [0.9740, 0.2049, 0.5427],\n",
      "        [0.0713, 0.0554, 0.4356],\n",
      "        [0.7586, 0.0704, 0.3054],\n",
      "        [0.7326, 0.9139, 0.4575]])\n",
      "tensor([[0, 0, 0],\n",
      "        [0, 0, 0],\n",
      "        [0, 0, 0],\n",
      "        [0, 0, 0],\n",
      "        [0, 0, 0]])\n",
      "tensor([5.5000, 3.0000])\n",
      "tensor([[1., 1., 1.],\n",
      "        [1., 1., 1.],\n",
      "        [1., 1., 1.],\n",
      "        [1., 1., 1.],\n",
      "        [1., 1., 1.]], dtype=torch.float64)\n",
      "tensor([[-1.3636, -1.1992,  1.1562],\n",
      "        [ 0.3277,  0.1167, -0.3046],\n",
      "        [-0.3926,  0.7979,  1.1443],\n",
      "        [ 0.0831,  0.0890, -1.3584],\n",
      "        [ 0.7765, -0.9108, -1.1869]])\n",
      "torch.Size([5, 3])\n",
      "tensor([[-1.1414, -1.1935,  1.8219],\n",
      "        [ 0.6351,  0.1820,  0.0026],\n",
      "        [ 0.4863,  0.8858,  1.9718],\n",
      "        [ 0.5048,  0.6157, -1.2442],\n",
      "        [ 1.0823, -0.6543, -0.2464]])\n",
      "tensor([[-1.1414, -1.1935,  1.8219],\n",
      "        [ 0.6351,  0.1820,  0.0026],\n",
      "        [ 0.4863,  0.8858,  1.9718],\n",
      "        [ 0.5048,  0.6157, -1.2442],\n",
      "        [ 1.0823, -0.6543, -0.2464]])\n",
      "tensor([[-1.1414, -1.1935,  1.8219],\n",
      "        [ 0.6351,  0.1820,  0.0026],\n",
      "        [ 0.4863,  0.8858,  1.9718],\n",
      "        [ 0.5048,  0.6157, -1.2442],\n",
      "        [ 1.0823, -0.6543, -0.2464]])\n",
      "tensor([[-1.1414, -1.1935,  1.8219],\n",
      "        [ 0.6351,  0.1820,  0.0026],\n",
      "        [ 0.4863,  0.8858,  1.9718],\n",
      "        [ 0.5048,  0.6157, -1.2442],\n",
      "        [ 1.0823, -0.6543, -0.2464]])\n",
      "tensor([-1.1992,  0.1167,  0.7979,  0.0890, -0.9108])\n"
     ]
    }
   ],
   "source": [
    "x = torch.empty(5, 3)\n",
    "print(x)\n",
    "\n",
    "x = torch.rand(5, 3)\n",
    "print(x)\n",
    "\n",
    "x = torch.zeros(5, 3, dtype=torch.long)\n",
    "print(x)\n",
    "\n",
    "x = torch.tensor([5.5, 3])\n",
    "print(x)\n",
    "\n",
    "x = x.new_ones(5, 3, dtype=torch.double)  # new_* methods take in sizes\n",
    "print(x)\n",
    "\n",
    "x = torch.randn_like(x, dtype=torch.float)  # override dtype!\n",
    "print(x)  # result has the same size\n",
    "\n",
    "print(x.size())\n",
    "\n",
    "y = torch.rand(5, 3)\n",
    "print(x + y)\n",
    "\n",
    "print(torch.add(x, y))\n",
    "\n",
    "result = torch.empty(5, 3)\n",
    "torch.add(x, y, out=result)\n",
    "print(result)\n",
    "\n",
    "# adds x to y\n",
    "y.add_(x)\n",
    "print(y)\n",
    "\n",
    "print(x[:, 1])"
   ]
  },
  {
   "cell_type": "code",
   "execution_count": 2,
   "metadata": {},
   "outputs": [
    {
     "name": "stdout",
     "output_type": "stream",
     "text": [
      "torch.Size([4, 4]) torch.Size([16]) torch.Size([2, 8])\n"
     ]
    }
   ],
   "source": [
    "x = torch.randn(4, 4)\n",
    "y = x.view(16)\n",
    "z = x.view(-1, 8)  # the size -1 is inferred from other dimensions\n",
    "print(x.size(), y.size(), z.size())"
   ]
  },
  {
   "cell_type": "code",
   "execution_count": 3,
   "metadata": {},
   "outputs": [
    {
     "name": "stdout",
     "output_type": "stream",
     "text": [
      "tensor([-1.4570, -2.6620, -0.2485,  0.6565,  0.1385, -0.0098, -0.4255, -0.8873,\n",
      "        -0.3031, -0.1469,  1.2088,  1.5974,  2.5682,  0.5068, -0.6617, -2.1359])\n"
     ]
    }
   ],
   "source": [
    "print(y)"
   ]
  },
  {
   "cell_type": "code",
   "execution_count": 4,
   "metadata": {},
   "outputs": [
    {
     "name": "stdout",
     "output_type": "stream",
     "text": [
      "tensor([[-1.4570, -2.6620, -0.2485,  0.6565,  0.1385, -0.0098, -0.4255, -0.8873],\n",
      "        [-0.3031, -0.1469,  1.2088,  1.5974,  2.5682,  0.5068, -0.6617, -2.1359]])\n"
     ]
    }
   ],
   "source": [
    "print(z)"
   ]
  },
  {
   "cell_type": "code",
   "execution_count": 7,
   "metadata": {},
   "outputs": [
    {
     "name": "stdout",
     "output_type": "stream",
     "text": [
      "tensor([0.6265])\n",
      "0.626497209072113\n"
     ]
    }
   ],
   "source": [
    "x = torch.randn(1)\n",
    "print(x)\n",
    "print(x.item())"
   ]
  },
  {
   "cell_type": "code",
   "execution_count": 8,
   "metadata": {},
   "outputs": [
    {
     "name": "stdout",
     "output_type": "stream",
     "text": [
      "tensor([1., 1., 1., 1., 1.])\n"
     ]
    }
   ],
   "source": [
    "a = torch.ones(5)\n",
    "print(a)"
   ]
  },
  {
   "cell_type": "code",
   "execution_count": 9,
   "metadata": {},
   "outputs": [
    {
     "name": "stdout",
     "output_type": "stream",
     "text": [
      "[1. 1. 1. 1. 1.]\n"
     ]
    }
   ],
   "source": [
    "b = a.numpy()\n",
    "print(b)"
   ]
  },
  {
   "cell_type": "code",
   "execution_count": 10,
   "metadata": {},
   "outputs": [
    {
     "name": "stdout",
     "output_type": "stream",
     "text": [
      "tensor([2., 2., 2., 2., 2.])\n",
      "[2. 2. 2. 2. 2.]\n"
     ]
    }
   ],
   "source": [
    "a.add_(1)\n",
    "print(a)\n",
    "print(b)"
   ]
  },
  {
   "cell_type": "code",
   "execution_count": 11,
   "metadata": {},
   "outputs": [
    {
     "name": "stdout",
     "output_type": "stream",
     "text": [
      "[2. 2. 2. 2. 2.]\n",
      "tensor([2., 2., 2., 2., 2.], dtype=torch.float64)\n"
     ]
    }
   ],
   "source": [
    "import numpy as np\n",
    "a = np.ones(5)\n",
    "b = torch.from_numpy(a)\n",
    "np.add(a, 1, out=a)\n",
    "print(a)\n",
    "print(b)"
   ]
  },
  {
   "cell_type": "code",
   "execution_count": null,
   "metadata": {},
   "outputs": [],
   "source": []
  },
  {
   "cell_type": "code",
   "execution_count": null,
   "metadata": {},
   "outputs": [],
   "source": []
  },
  {
   "cell_type": "code",
   "execution_count": null,
   "metadata": {},
   "outputs": [],
   "source": []
  },
  {
   "cell_type": "code",
   "execution_count": null,
   "metadata": {},
   "outputs": [],
   "source": []
  },
  {
   "cell_type": "code",
   "execution_count": null,
   "metadata": {},
   "outputs": [],
   "source": []
  },
  {
   "cell_type": "code",
   "execution_count": null,
   "metadata": {},
   "outputs": [],
   "source": []
  },
  {
   "cell_type": "code",
   "execution_count": null,
   "metadata": {},
   "outputs": [],
   "source": []
  },
  {
   "cell_type": "code",
   "execution_count": null,
   "metadata": {},
   "outputs": [],
   "source": []
  }
 ],
 "metadata": {
  "kernelspec": {
   "display_name": "Python 3",
   "language": "python",
   "name": "python3"
  },
  "language_info": {
   "codemirror_mode": {
    "name": "ipython",
    "version": 3
   },
   "file_extension": ".py",
   "mimetype": "text/x-python",
   "name": "python",
   "nbconvert_exporter": "python",
   "pygments_lexer": "ipython3",
   "version": "3.6.6"
  }
 },
 "nbformat": 4,
 "nbformat_minor": 2
}
